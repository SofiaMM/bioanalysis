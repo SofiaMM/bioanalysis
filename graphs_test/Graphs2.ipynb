{
 "cells": [
  {
   "cell_type": "code",
   "execution_count": 2,
   "metadata": {},
   "outputs": [],
   "source": [
    "import datetime\n",
    "import mysql.connector\n",
    "import operator\n",
    "import numpy as np\n",
    "import matplotlib as mlp\n",
    "import matplotlib.mlab as mlab\n",
    "import matplotlib.pyplot as plt"
   ]
  },
  {
   "cell_type": "code",
   "execution_count": 3,
   "metadata": {},
   "outputs": [],
   "source": [
    "def run_query(query):\n",
    "    return pd.read_sql_query(query,db)"
   ]
  },
  {
   "cell_type": "code",
   "execution_count": 41,
   "metadata": {},
   "outputs": [
    {
     "data": {
      "image/png": "[encoded data removed]",
      "text/plain": [
       "<Figure size 432x288 with 1 Axes>"
      ]
     },
     "metadata": {},
     "output_type": "display_data"
    }
   ],
   "source": [
    "cnx = mysql.connector.connect(user='root', password='root',\n",
    "                              host='127.0.0.1',\n",
    "                              database='bioeco')\n",
    "\n",
    "cursor = cnx.cursor()\n",
    "\n",
    "\n",
    "query = ('''select \"1-500\" as priceRange, count(num_metab_num_price.num_metab) as num_metab from bioeco.num_metab_num_price\n",
    "               where num_metab_num_price.num_price between 1 and 499\n",
    "            union (\n",
    "            select \"500-1000\" as PriceRange, count(num_metab_num_price.num_metab) as num_metab from bioeco.num_metab_num_price\n",
    "               where num_metab_num_price.num_price between 500 and 999)\n",
    "            union (\n",
    "            select \"1000-1500\" as PriceRange, count(num_metab_num_price.num_metab) as num_metab from bioeco.num_metab_num_price\n",
    "               where num_metab_num_price.num_price between 1000 and 1499)\n",
    "            union (\n",
    "            select \"1500-2000\" as PriceRange, count(num_metab_num_price.num_metab) as num_metab from bioeco.num_metab_num_price\n",
    "               where num_metab_num_price.num_price between 1500 and 1999)\n",
    "            union (\n",
    "            select \"2000-2500\" as PriceRange, count(num_metab_num_price.num_metab) as num_metab from bioeco.num_metab_num_price\n",
    "               where num_metab_num_price.num_price between 2000 and 2499)\n",
    "            union (\n",
    "            select \"2500-3000\" as PriceRange, count(num_metab_num_price.num_metab) as num_metab from bioeco.num_metab_num_price\n",
    "               where num_metab_num_price.num_price between 2500 and 2999)\n",
    "            union (\n",
    "            select \"3000-3500\" as PriceRange, count(num_metab_num_price.num_metab) as num_metab from bioeco.num_metab_num_price\n",
    "               where num_metab_num_price.num_price between 3000 and 3499)\n",
    "            union (\n",
    "            select \"3500-4000\" as PriceRange, count(num_metab_num_price.num_metab) as num_metab from bioeco.num_metab_num_price\n",
    "               where num_metab_num_price.num_price between 3500 and 3999)\n",
    "            union (\n",
    "            select \"4000-4500\" as PriceRange, count(num_metab_num_price.num_metab) as num_metab from bioeco.num_metab_num_price\n",
    "               where num_metab_num_price.num_price between 4000 and 4499)\n",
    "            union (\n",
    "            select \"4500-5000\" as PriceRange, count(num_metab_num_price.num_metab) as num_metab from bioeco.num_metab_num_price\n",
    "               where num_metab_num_price.num_price between 4500 and 4999)\n",
    "            union (\n",
    "            select \"5000-inf\" as PriceRange, count(num_metab_num_price.num_metab) as num_metab from bioeco.num_metab_num_price\n",
    "               where num_metab_num_price.num_price >= 5000);''')\n",
    "num_price = []\n",
    "num_met = []\n",
    "\n",
    "cursor.execute(query)\n",
    "\n",
    "\n",
    "for (priceRange, num_metab) in cursor:\n",
    "    num_price.append(priceRange)\n",
    "    num_met.append(num_metab)\n",
    "\n",
    "    \n",
    "plt.bar(['500','1000','1500','2000','2500','3000','3500','4000','4500','5000','inf'], num_met, align='edge', alpha=0.4, width = -1)   \n",
    "plt.xlabel(\"Number of Prices\")\n",
    "plt.ylabel(\"Number of Metabolites\")\n",
    "plt.show()\n",
    "\n",
    "    \n",
    "cursor.close()    \n",
    "cnx.close()"
   ]
  }
 ],
 "metadata": {
  "kernelspec": {
   "display_name": "Python 3",
   "language": "python",
   "name": "python3"
  },
  "language_info": {
   "codemirror_mode": {
    "name": "ipython",
    "version": 3
   },
   "file_extension": ".py",
   "mimetype": "text/x-python",
   "name": "python",
   "nbconvert_exporter": "python",
   "pygments_lexer": "ipython3",
   "version": "3.6.2"
  }
 },
 "nbformat": 4,
 "nbformat_minor": 2
}
